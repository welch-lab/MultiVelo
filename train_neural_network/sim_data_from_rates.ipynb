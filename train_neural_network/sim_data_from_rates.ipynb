{
 "cells": [
  {
   "cell_type": "code",
   "execution_count": 1,
   "id": "cbb12133",
   "metadata": {
    "ExecuteTime": {
     "end_time": "2022-06-06T21:11:44.428044Z",
     "start_time": "2022-06-06T21:11:42.964125Z"
    }
   },
   "outputs": [
    {
     "data": {
      "text/html": [
       "<style>div.output_scroll { height: 50em; }</style>"
      ],
      "text/plain": [
       "<IPython.core.display.HTML object>"
      ]
     },
     "metadata": {},
     "output_type": "display_data"
    },
    {
     "data": {
      "text/html": [
       "<style>.container { width:90% !important; }</style>"
      ],
      "text/plain": [
       "<IPython.core.display.HTML object>"
      ]
     },
     "metadata": {},
     "output_type": "display_data"
    }
   ],
   "source": [
    "import os\n",
    "import csv\n",
    "import scipy\n",
    "from importlib import reload\n",
    "import numpy as np\n",
    "import pandas as pd\n",
    "from anndata import AnnData\n",
    "import scanpy as sc\n",
    "import scvelo as scv\n",
    "import sklearn\n",
    "import matplotlib.pyplot as plt\n",
    "from tqdm.notebook import tqdm\n",
    "from numba.typed import List\n",
    "import sys\n",
    "from IPython.core.display import display, HTML\n",
    "display(HTML(\"<style>div.output_scroll { height: 50em; }</style>\"))\n",
    "display(HTML(\"<style>.container { width:90% !important; }</style>\"))\n",
    "import random\n",
    "\n",
    "from scipy.stats import qmc"
   ]
  },
  {
   "cell_type": "code",
   "execution_count": 2,
   "id": "4767542d",
   "metadata": {
    "ExecuteTime": {
     "end_time": "2022-06-06T21:11:44.469485Z",
     "start_time": "2022-06-06T21:11:44.429456Z"
    }
   },
   "outputs": [],
   "source": [
    "%load_ext autoreload\n",
    "%autoreload 2\n",
    "sys.path.append(\"../src/multivelo\")\n",
    "from dynamical_chrom_func import *\n",
    "import multivelo as mv"
   ]
  },
  {
   "cell_type": "code",
   "execution_count": 3,
   "id": "cafcf69a-b03a-402d-929e-af3eb9c9a3e0",
   "metadata": {},
   "outputs": [],
   "source": [
    "# the folder from which to read the original\n",
    "# rate parameters from\n",
    "\n",
    "# figure data:\n",
    "read_folder = \"./data/rates/fig_rates_train\"\n",
    "\n",
    "# validation data:\n",
    "# You will need to supply your own validation data in order to run this code!\n",
    "# read folder ="
   ]
  },
  {
   "cell_type": "markdown",
   "id": "04525287-2048-47d5-b8c0-aaeaa5c365ef",
   "metadata": {},
   "source": [
    "## Set User-Defined Simulation Parameters"
   ]
  },
  {
   "cell_type": "code",
   "execution_count": 4,
   "id": "bd9577e9",
   "metadata": {},
   "outputs": [],
   "source": [
    "# name of the folder we save the simulated data to\n",
    "\n",
    "save_folder = \"./data/simulated_data/dir2_m1\""
   ]
  },
  {
   "cell_type": "code",
   "execution_count": 5,
   "id": "5a3933db",
   "metadata": {
    "ExecuteTime": {
     "end_time": "2022-06-06T21:11:44.485033Z",
     "start_time": "2022-06-06T21:11:44.471071Z"
    }
   },
   "outputs": [],
   "source": [
    "# number of cells to simulate per gene\n",
    "n = 750\n",
    "\n",
    "# the direction of the gene we're simulating\n",
    "# 0 = complete genes\n",
    "# 1 = activation genes\n",
    "# 2 = repression genes\n",
    "dire = 2\n",
    "\n",
    "# the list of appropriate gene models to simulate\n",
    "models = [1]\n",
    "\n",
    "# the factor to multiply the noise for c/u/s by\n",
    "factor = 1\n",
    "# factor = 0"
   ]
  },
  {
   "cell_type": "code",
   "execution_count": 6,
   "id": "544ca4a9-40ef-41f4-803a-88796fad579b",
   "metadata": {},
   "outputs": [],
   "source": [
    "# Multiply the number of genes in the data by at\n",
    "# least this value (extra will be multiplied for\n",
    "# special cases)\n",
    "# n_gene_multiply = 0\n",
    "n_gene_multiply = 5\n",
    "\n",
    "# The fractional \"radius\" within which we can generate new values.\n",
    "# When generating new simulated genes, we either add or \n",
    "# subtract a random value to the rate parameters that\n",
    "# falls within the range of [0, radius * original parameter).\n",
    "radius = 0.1"
   ]
  },
  {
   "cell_type": "code",
   "execution_count": 7,
   "id": "3c666c04-e181-4fed-ab86-957ca23cb42a",
   "metadata": {},
   "outputs": [],
   "source": [
    "# some gene values are much larger than the majority,\n",
    "# but aren't large enough to be discarded as outliers.\n",
    "# When this happens, these two variables help govern how\n",
    "# to generate extra data around these points\n",
    "\n",
    "# Governs how much we want the gene multiplier\n",
    "# to grow for larger parameter values\n",
    "multiplier = 10\n",
    "# multiplier = 0\n",
    "\n",
    "# Governs how much we\n",
    "# want the radius to increase\n",
    "# for these larger values\n",
    "radius_scale = 1"
   ]
  },
  {
   "cell_type": "code",
   "execution_count": 8,
   "id": "9e0ed585",
   "metadata": {
    "ExecuteTime": {
     "end_time": "2022-06-06T21:11:44.537085Z",
     "start_time": "2022-06-06T21:11:44.502250Z"
    }
   },
   "outputs": [],
   "source": [
    "# set the random seed for simulation\n",
    "wildcard = 100\n",
    "\n",
    "np.random.seed(int(n_gene_multiply * (dire + 1) + wildcard + multiplier))"
   ]
  },
  {
   "cell_type": "code",
   "execution_count": 9,
   "id": "47d87d99-463a-415c-9725-6fa2f5253ea6",
   "metadata": {},
   "outputs": [
    {
     "name": "stdout",
     "output_type": "stream",
     "text": [
      "10\n"
     ]
    }
   ],
   "source": [
    "ac_orig = np.loadtxt(read_folder+\"/alpha_c.txt\")\n",
    "a_orig = np.loadtxt(read_folder+\"/alpha.txt\")\n",
    "b_orig = np.loadtxt(read_folder+\"/beta.txt\")\n",
    "g_orig = np.loadtxt(read_folder+\"/gamma.txt\")\n",
    "\n",
    "big_a_orig = 10\n",
    "big_ac_orig = 0.1\n",
    "big_b_orig = 1\n",
    "big_g_orig = 1.5\n",
    "\n",
    "print(big_a_orig)\n",
    "\n",
    "ac_too_big = 0.2\n",
    "a_too_big = 100\n",
    "b_too_big = 1.75\n",
    "g_too_big = 2.2\n",
    "\n",
    "# m_orig = np.loadtxt(read_folder+\"/model_list.txt\")\n",
    "\n",
    "ac_sorted = np.sort(ac_orig)\n",
    "a_sorted = np.sort(a_orig)\n",
    "b_sorted = np.sort(b_orig)\n",
    "g_sorted = np.sort(g_orig)\n",
    "\n",
    "orig_n_gene = len(ac_orig)"
   ]
  },
  {
   "cell_type": "code",
   "execution_count": 10,
   "id": "6fb7ecf9-b032-4831-aa1f-a037a66a7e39",
   "metadata": {},
   "outputs": [],
   "source": [
    "def add_new_param(orig, i, param_array, radius):\n",
    "    \n",
    "    # randomly add a value to the original data\n",
    "    # that's falls in the range [original value - radius, original value + radius)\n",
    "    # choice = np.random.choice([0,1])\n",
    "    new_val = orig[i] - radius + (2 * radius * np.random.random())\n",
    "\n",
    "    # if something goes wrong and the new value is less than zero,\n",
    "    # then just return the original value\n",
    "    if new_val < 0:\n",
    "        new_val = orig[i]\n",
    "\n",
    "    # add the new value to the array of rate parameters\n",
    "    param_array.append(new_val)"
   ]
  },
  {
   "cell_type": "markdown",
   "id": "0b20724f-1648-47ad-ac1b-91ff54dd512b",
   "metadata": {},
   "source": [
    "## Generate Gene Rate Parameters"
   ]
  },
  {
   "cell_type": "code",
   "execution_count": 11,
   "id": "13c9bdb8",
   "metadata": {},
   "outputs": [],
   "source": [
    "alpha_c = []\n",
    "alpha = []\n",
    "beta = []\n",
    "gamma = []"
   ]
  },
  {
   "cell_type": "code",
   "execution_count": 12,
   "id": "2eb7c609-859c-4094-b1da-7079b6d75c38",
   "metadata": {},
   "outputs": [],
   "source": [
    "# iterate through the rate parameters of all the original genes\n",
    "for i in range(orig_n_gene):\n",
    "\n",
    "    # if any of the data points are extreme outliers, skip this iteration\n",
    "    if ac_orig[i] > ac_too_big or a_orig[i] > a_too_big or b_orig[i] > b_too_big or b_orig[i] > b_too_big:\n",
    "        continue\n",
    "\n",
    "    # store the original radius and\n",
    "    # gene multiplier values\n",
    "    ac_radius = radius\n",
    "    a_radius = radius\n",
    "    b_radius = radius\n",
    "    g_radius = radius\n",
    "    cur_gene_multiply = n_gene_multiply\n",
    "\n",
    "    # find the difference between the rate parameter values\n",
    "    # we're looking at and the \"big\" boundary values\n",
    "    ac_diff = ac_orig[i] - big_ac_orig\n",
    "    a_diff = a_orig[i] - big_a_orig\n",
    "    b_diff = b_orig[i] - big_b_orig\n",
    "    g_diff = g_orig[i] - big_g_orig\n",
    "\n",
    "    # check to see if the rate parameter is sufficiently big\n",
    "    # enough to increase the number of simulated genes around it\n",
    "    big_val = (ac_diff > 0) or (a_diff > 0) or (b_diff > 0) or (g_diff > 0)\n",
    "\n",
    "    # if the parameter is sufficiently big,\n",
    "    # increase the gene multiplier value\n",
    "    if big_val:\n",
    "        cur_gene_multiply *= multiplier\n",
    "\n",
    "    # Add even more gene multiplication\n",
    "    # if multiple big parameter values are stacking\n",
    "    # (radius expansions stack as well)\n",
    "    if ac_diff > 0:\n",
    "        cur_gene_multiply += multiplier * 2\n",
    "        ac_radius *= radius_scale\n",
    "\n",
    "    if a_diff > 0:\n",
    "        cur_gene_multiply += multiplier\n",
    "        a_radius *= radius_scale\n",
    "\n",
    "    if b_diff > 0:\n",
    "        cur_gene_multiply += multiplier\n",
    "        b_radius *= radius_scale\n",
    "\n",
    "    if g_diff > 0:\n",
    "        cur_gene_multiply += multiplier\n",
    "        g_radius *= radius_scale\n",
    "\n",
    "    # add the original values to the data no matter what\n",
    "    alpha_c.append(ac_orig[i])\n",
    "    alpha.append(a_orig[i])\n",
    "    beta.append(b_orig[i])\n",
    "    gamma.append(g_orig[i])\n",
    "\n",
    "    # generate new data points as many times\n",
    "    # as we've determined we need\n",
    "    for j in range(int(cur_gene_multiply)):\n",
    "        \n",
    "        add_new_param(ac_orig, i, alpha_c, ac_radius)\n",
    "        add_new_param(a_orig, i, alpha, a_radius)\n",
    "        add_new_param(b_orig, i, beta, b_radius)\n",
    "        add_new_param(g_orig, i, gamma, g_radius)"
   ]
  },
  {
   "cell_type": "code",
   "execution_count": 13,
   "id": "1d593149-80e2-401a-9e7d-eafaab1dc01c",
   "metadata": {},
   "outputs": [],
   "source": [
    "# assemble the final data\n",
    "mvln = np.array([alpha_c, alpha, beta, gamma]).T\n",
    "n_gene = mvln.shape[0]"
   ]
  },
  {
   "cell_type": "code",
   "execution_count": 14,
   "id": "5c67f02b-9583-4cb9-9718-6efb58636967",
   "metadata": {},
   "outputs": [
    {
     "name": "stdout",
     "output_type": "stream",
     "text": [
      "(52915, 4)\n",
      "\n",
      "52915\n"
     ]
    }
   ],
   "source": [
    "# print the size of the new data\n",
    "print(mvln.shape)\n",
    "print()\n",
    "print(n_gene)"
   ]
  },
  {
   "cell_type": "markdown",
   "id": "2e1abaf4-aa19-4bc8-92a1-c52d49ec9c45",
   "metadata": {},
   "source": [
    "## Graph Parameters"
   ]
  },
  {
   "cell_type": "code",
   "execution_count": 15,
   "id": "46d22906",
   "metadata": {},
   "outputs": [
    {
     "data": {
      "image/png": "[encoded data removed]",
      "text/plain": [
       "<Figure size 1200x1200 with 24 Axes>"
      ]
     },
     "metadata": {},
     "output_type": "display_data"
    }
   ],
   "source": [
    "names = [\"alpha_c\", \"alpha\", \"beta\", \"gamma\"]\n",
    "fig, axs = plt.subplots(4, 3, figsize=(12, 12))\n",
    "\n",
    "for i in range(mvln.shape[1]):\n",
    "    col = 0\n",
    "    for j in range(mvln.shape[1]):\n",
    "        \n",
    "        if i == j:\n",
    "            continue\n",
    "        h = axs[i][col].hist2d(np.ravel(mvln[:,i]), np.ravel(mvln[:,j]), bins=30)\n",
    "        axs[i][col].set_xlabel(names[i])\n",
    "        axs[i][col].set_ylabel(names[j])\n",
    "        fig.colorbar(h[3], ax=axs[i][col])\n",
    "        col += 1\n",
    "\n",
    "# fig.colorbar(axs)\n",
    "fig.tight_layout()"
   ]
  },
  {
   "cell_type": "markdown",
   "id": "602bd674-9783-4bb2-9ec7-c904bed94689",
   "metadata": {},
   "source": [
    "## Generate Time Data"
   ]
  },
  {
   "cell_type": "code",
   "execution_count": 16,
   "id": "080763e5",
   "metadata": {
    "ExecuteTime": {
     "end_time": "2022-06-06T21:11:45.068250Z",
     "start_time": "2022-06-06T21:11:45.053465Z"
    }
   },
   "outputs": [],
   "source": [
    "# \"true time\" used for graphing later\n",
    "# TODO: (Is it?)\n",
    "true_time = np.linspace(0, 20, n)"
   ]
  },
  {
   "cell_type": "code",
   "execution_count": 17,
   "id": "d9413957",
   "metadata": {
    "ExecuteTime": {
     "end_time": "2022-06-06T21:11:45.125296Z",
     "start_time": "2022-06-06T21:11:45.069644Z"
    }
   },
   "outputs": [
    {
     "data": {
      "text/plain": [
       "array([[ 8.        ,  9.33333333, 14.66666667],\n",
       "       [ 7.61904762, 11.42857143, 17.14285714],\n",
       "       [ 3.44827586,  8.96551724, 13.79310345],\n",
       "       ...,\n",
       "       [ 6.31578947,  8.42105263, 10.52631579],\n",
       "       [ 8.18181818, 10.90909091, 18.18181818],\n",
       "       [ 5.71428571, 11.42857143, 14.28571429]])"
      ]
     },
     "execution_count": 17,
     "metadata": {},
     "output_type": "execute_result"
    }
   ],
   "source": [
    "# Generate switch time values\n",
    "\n",
    "np.random.seed(0)\n",
    "t_sw_array_array = np.empty((n_gene, 3))\n",
    "for i in range(n_gene):\n",
    "\n",
    "    # generate 4 intervals drawn from equally wide distributions\n",
    "    interval1 = np.random.choice(list(range(1,10)))\n",
    "    interval2 = np.random.choice(list(range(1,10)))\n",
    "    interval3 = np.random.choice(list(range(1,10)))\n",
    "    interval4 = np.random.choice(list(range(1,10)))\n",
    "\n",
    "    # scale the intervals so that the time total is equal to 20\n",
    "    total = interval1 + interval2 + interval3 + interval4\n",
    "    scale = 20 / total\n",
    "    interval1 *= scale\n",
    "    interval2 *= scale\n",
    "    interval3 *= scale\n",
    "    interval4 *= scale\n",
    "\n",
    "    # calculate the switch times from those intervals\n",
    "    t_sw_array = np.array([interval1, interval1+interval2, interval1+interval2+interval3])\n",
    "    t_sw_array_array[i,:] = t_sw_array\n",
    "        \n",
    "t_sw_array_array"
   ]
  },
  {
   "cell_type": "code",
   "execution_count": 18,
   "id": "66446b10",
   "metadata": {},
   "outputs": [],
   "source": [
    "sw_name = save_folder + \"/raw_switch_times.txt\"\n",
    "\n",
    "np.savetxt(sw_name, t_sw_array_array)"
   ]
  },
  {
   "cell_type": "code",
   "execution_count": 19,
   "id": "d155e488",
   "metadata": {
    "ExecuteTime": {
     "end_time": "2022-06-06T21:11:45.143215Z",
     "start_time": "2022-06-06T21:11:45.126419Z"
    }
   },
   "outputs": [
    {
     "data": {
      "text/plain": [
       "52915"
      ]
     },
     "execution_count": 19,
     "metadata": {},
     "output_type": "execute_result"
    }
   ],
   "source": [
    "model_list = np.random.choice(models, size=n_gene)\n",
    "np.sum(model_list==1)"
   ]
  },
  {
   "cell_type": "code",
   "execution_count": 20,
   "id": "07addd31",
   "metadata": {},
   "outputs": [],
   "source": [
    "model_name = save_folder + \"/model_list.txt\"\n",
    "\n",
    "np.savetxt(model_name, model_list)"
   ]
  },
  {
   "cell_type": "code",
   "execution_count": 21,
   "id": "306e6025",
   "metadata": {},
   "outputs": [],
   "source": [
    "alpha_c = []\n",
    "alpha = []\n",
    "beta = []\n",
    "gamma = []\n",
    "output_time = []\n",
    "tau_matrix = []\n",
    "c0_matrix = []\n",
    "u0_matrix = []\n",
    "s0_matrix = []"
   ]
  },
  {
   "cell_type": "code",
   "execution_count": 22,
   "id": "30953615",
   "metadata": {},
   "outputs": [],
   "source": [
    "adj_switch_times = []\n",
    "raw_switch_times = []"
   ]
  },
  {
   "cell_type": "markdown",
   "id": "ddf1d9dc-1291-4890-92b4-1edc9cdd8945",
   "metadata": {},
   "source": [
    "## Calculate c/u/s values"
   ]
  },
  {
   "cell_type": "code",
   "execution_count": 23,
   "id": "74c35fd9",
   "metadata": {
    "ExecuteTime": {
     "end_time": "2022-06-06T21:11:55.014825Z",
     "start_time": "2022-06-06T21:11:45.164638Z"
    }
   },
   "outputs": [],
   "source": [
    "# np.random.seed(0)\n",
    "cus_list, cus_sw_list, cus_ss_list, noise_list, para_list = [], [], [], [], []\n",
    "var_sim_c, var_sim_u, var_sim_s = [], [], []\n",
    "mean_sim_c, mean_sim_u, mean_sim_s = [], [], []\n",
    "\n",
    "# make calculations per gene\n",
    "for i in range(n_gene):\n",
    "\n",
    "    # get the model, rate parameters, and switch times for each gene\n",
    "    mod = model_list[i]\n",
    "    para = mvln[i,:]\n",
    "    sw = t_sw_array_array[i]\n",
    "    # dire = direction_list[i]\n",
    "\n",
    "    # calculate realignment ratios for different directions of genes\n",
    "    if dire == 1:\n",
    "        realign_ratio =  20 / sw[1]\n",
    "        t_min = 0\n",
    "        t_max = sw[1]\n",
    "    elif dire == 2:\n",
    "        realign_ratio = 20 / (20-sw[1])\n",
    "        t_min = sw[1]\n",
    "        t_max = 20\n",
    "    else:\n",
    "        realign_ratio = 1\n",
    "        t_min = 0\n",
    "        t_max = 20\n",
    "\n",
    "    # if this is a complete gene, then we want to generate an even number of time values from 0 to 20\n",
    "    if dire == 0:\n",
    "        t_ = np.random.uniform(low=0.0, high=20, size=n)\n",
    "\n",
    "    # if this is an induction or repression gene, we want n cells on either side of the second switch time,\n",
    "    # because we're going to cut off all the data on one side of t_sw_1 (which side depends on whether it's\n",
    "    # an induction or a repression gene)\n",
    "    elif dire == 1 or 2:\n",
    "        t_ = np.concatenate((np.random.uniform(low=0.0, high=sw[1], size=n), np.random.uniform(low=sw[1], high=20, size=n)))\n",
    "\n",
    "    # sort out the random time points so they're in order\n",
    "    t_ = np.sort(t_)\n",
    "    \n",
    "    # calculate the tau values for each state\n",
    "    tau1 = t_[t_<=sw[0]]\n",
    "    tau2 = t_[(sw[0]<t_) & (t_<=sw[1])] - sw[0]\n",
    "    tau3 = t_[(sw[1]<t_) & (t_<=sw[2])] - sw[1]\n",
    "    tau4 = t_[sw[2]<t_] - sw[2]\n",
    "    \n",
    "    tau_list = [tau1, tau2, tau3, tau4]\n",
    "    \n",
    "    tau_matrix.append(tau_list)\n",
    "\n",
    "    # convert the tau values to a Numba list\n",
    "    typed_tau_list = List()\n",
    "    [typed_tau_list.append(x) for x in tau_list]\n",
    "\n",
    "    # calculate c/u/s values from our tau values and rate parameters\n",
    "    exp_list, exp_sw_list = generate_exp(typed_tau_list, sw, para[0], para[1], para[2], para[3], model=mod)\n",
    "    \n",
    "    cus_sw_list.append(exp_sw_list)\n",
    "    exp_ss_list = compute_ss_exp(para[0], para[1], para[2], para[3], model=mod)\n",
    "    cus_ss_list.append(exp_ss_list)\n",
    "\n",
    "    # assemble the c/u/s points at the beginning of each state\n",
    "    c0 = [exp_list[0][0,0], exp_sw_list[0][0,0], exp_sw_list[1][0,0], exp_sw_list[2][0,0]]\n",
    "    u0 = [exp_list[0][0,1], exp_sw_list[0][0,1], exp_sw_list[1][0,1], exp_sw_list[2][0,1]]\n",
    "    s0 = [exp_list[0][0,2], exp_sw_list[0][0,2], exp_sw_list[1][0,2], exp_sw_list[2][0,2]]\n",
    "\n",
    "    c0_matrix.append(c0)\n",
    "    u0_matrix.append(u0)\n",
    "    s0_matrix.append(s0)\n",
    "\n",
    "    # choose which states to include in the data depending on which direction this gene is\n",
    "    if dire == 0:\n",
    "        all_c = np.concatenate([exp_list[x][:,0] for x in range(4)])\n",
    "        all_u = np.concatenate([exp_list[x][:,1] for x in range(4)])\n",
    "        all_s = np.concatenate([exp_list[x][:,2] for x in range(4)])\n",
    "    if dire == 1:\n",
    "        all_c = np.concatenate([exp_list[x][:,0] for x in [0,1]])\n",
    "        all_u = np.concatenate([exp_list[x][:,1] for x in [0,1]])\n",
    "        all_s = np.concatenate([exp_list[x][:,2] for x in [0,1]])\n",
    "        t_ = t_[:n]\n",
    "    elif dire == 2:\n",
    "        all_c = np.concatenate([exp_list[x][:,0] for x in [2,3]])\n",
    "        all_u = np.concatenate([exp_list[x][:,1] for x in [2,3]])\n",
    "        all_s = np.concatenate([exp_list[x][:,2] for x in [2,3]])\n",
    "        t_ = t_[len(t_)-n:]\n",
    "\n",
    "    # If this isn't a complete gene, we realign the time data such that\n",
    "    # the time points fall in the [0, 20] range.\n",
    "    # We also scale the rate parameters accordingly\n",
    "    para /= realign_ratio\n",
    "    new_sw = (sw - t_min) * realign_ratio\n",
    "    t_ = (t_ - t_min) * realign_ratio\n",
    "\n",
    "    # check for errors\n",
    "    if len(all_c) != n:\n",
    "        raise ValueError(f'final data size is not {n}')\n",
    "    \n",
    "    if len(t_) != n:\n",
    "        print(\"dire:\", dire)\n",
    "        raise ValueError(f'final t size is not {n}, it is {len(t_)}')\n",
    "\n",
    "    # collect time and parameter data\n",
    "    adj_switch_times.append(new_sw)\n",
    "    output_time.append(t_)\n",
    "    alpha_c.append(para[0])\n",
    "    alpha.append(para[1])\n",
    "    beta.append(para[2])\n",
    "    gamma.append(para[3])\n",
    "\n",
    "    # make some approximate variance values for c/u/s\n",
    "    vc, vu, vs = np.mean(all_c)**2/10, np.max(all_u)**2/600, np.max(all_s)**2/1200 # variance of chromatin set to 2/10 for eq, 2/2 for high-var and 2/50 for low-var\n",
    "    var_sim_c.append(vc)\n",
    "    var_sim_u.append(vu)\n",
    "    var_sim_s.append(vs)\n",
    "    \n",
    "    # add simulated noise to c/u/s data\n",
    "    noise_c = np.random.normal(0, np.sqrt(vc)*factor, n)\n",
    "    noise_u = np.random.normal(0, np.sqrt(vu)*factor, n)\n",
    "    noise_s = np.random.normal(0, np.sqrt(vs)*factor, n)\n",
    "\n",
    "    # collect raw c/u/s data (no noise)\n",
    "    cus_list.append(np.hstack((np.reshape(all_c,(-1,1)), np.reshape(all_u,(-1,1)), np.reshape(all_s,(-1,1)))))\n",
    "\n",
    "    # add noice to c/u/s data and collect it\n",
    "    c_noise = all_c + noise_c\n",
    "    c_noise[c_noise < 0] = 0\n",
    "    u_noise = all_u + noise_u\n",
    "    u_noise[u_noise < 0] = 0\n",
    "    s_noise = all_s + noise_s\n",
    "    s_noise[s_noise < 0] = 0\n",
    "    noise_list.append(np.hstack((np.reshape(c_noise,(-1,1)), np.reshape(u_noise,(-1,1)), np.reshape(s_noise,(-1,1)))))\n",
    "    mean_sim_c.append(np.mean(c_noise))\n",
    "    mean_sim_u.append(np.mean(u_noise))\n",
    "    mean_sim_s.append(np.mean(s_noise))\n",
    "    para_list.append(para)\n",
    "\n",
    "var_sim_c, var_sim_u, var_sim_s = np.array(var_sim_c), np.array(var_sim_u), np.array(var_sim_s)\n",
    "mean_sim_c, mean_sim_u, mean_sim_s = np.array(mean_sim_c), np.array(mean_sim_u), np.array(mean_sim_s)"
   ]
  },
  {
   "cell_type": "markdown",
   "id": "c6708960-1412-40b5-a95b-e45c4986bd0f",
   "metadata": {},
   "source": [
    "## Save Simulated Data"
   ]
  },
  {
   "cell_type": "code",
   "execution_count": 24,
   "id": "ba4dc52d",
   "metadata": {},
   "outputs": [],
   "source": [
    "alpha_c_name = save_folder + \"/alpha_c.txt\"\n",
    "alpha_name = save_folder + \"/alpha.txt\"\n",
    "beta_name = save_folder + \"/beta.txt\"\n",
    "gamma_name = save_folder + \"/gamma.txt\"\n",
    "\n",
    "np.savetxt(alpha_c_name, alpha_c)\n",
    "np.savetxt(alpha_name, alpha)\n",
    "np.savetxt(beta_name, beta)\n",
    "np.savetxt(gamma_name, gamma)"
   ]
  },
  {
   "cell_type": "code",
   "execution_count": 25,
   "id": "ae29c55f-fef4-4ac0-980e-1eb6e363a8a9",
   "metadata": {},
   "outputs": [],
   "source": [
    "adj_switch_times = np.array(adj_switch_times)"
   ]
  },
  {
   "cell_type": "code",
   "execution_count": 26,
   "id": "27fec015",
   "metadata": {},
   "outputs": [],
   "source": [
    "sw_name = save_folder + \"/switch_times.txt\"\n",
    "\n",
    "np.savetxt(sw_name, adj_switch_times)"
   ]
  },
  {
   "cell_type": "code",
   "execution_count": 27,
   "id": "6d09878f",
   "metadata": {},
   "outputs": [
    {
     "name": "stdout",
     "output_type": "stream",
     "text": [
      "(52915, 4)\n",
      "(52915, 4)\n",
      "(52915, 4)\n"
     ]
    }
   ],
   "source": [
    "s0_matrix = np.array(s0_matrix)\n",
    "u0_matrix = np.array(u0_matrix)\n",
    "c0_matrix = np.array(c0_matrix)\n",
    "\n",
    "print(s0_matrix.shape)\n",
    "print(u0_matrix.shape)\n",
    "print(c0_matrix.shape)\n",
    "\n",
    "s0_name = save_folder + \"/s0_data.txt\"\n",
    "u0_name = save_folder + \"/u0_data.txt\"\n",
    "c0_name = save_folder + \"/c0_data.txt\"\n",
    "\n",
    "np.savetxt(s0_name, s0_matrix)\n",
    "np.savetxt(u0_name, u0_matrix)\n",
    "np.savetxt(c0_name, c0_matrix)"
   ]
  },
  {
   "cell_type": "code",
   "execution_count": 28,
   "id": "79edbe52",
   "metadata": {},
   "outputs": [
    {
     "name": "stdout",
     "output_type": "stream",
     "text": [
      "(52915, 750)\n",
      "(750, 52915)\n"
     ]
    }
   ],
   "source": [
    "output_time = np.array(output_time)\n",
    "\n",
    "print(output_time.shape)\n",
    "\n",
    "output_time = output_time.T\n",
    "\n",
    "print(output_time.shape)\n",
    "\n",
    "time_name = save_folder + \"/true_time.txt\"\n",
    "\n",
    "np.savetxt(time_name, output_time)"
   ]
  },
  {
   "cell_type": "code",
   "execution_count": 29,
   "id": "257684b2",
   "metadata": {},
   "outputs": [
    {
     "name": "stdout",
     "output_type": "stream",
     "text": [
      "(52915, 750)\n"
     ]
    }
   ],
   "source": [
    "# c/u/s\n",
    "save_c = np.array(noise_list)[:,:,0]\n",
    "save_u = np.array(noise_list)[:,:,1]\n",
    "save_s = np.array(noise_list)[:,:,2]\n",
    "\n",
    "print(save_c.shape)\n",
    "\n",
    "c_name = save_folder + \"/save_c.txt\"\n",
    "u_name = save_folder + \"/save_u.txt\"\n",
    "s_name = save_folder + \"/save_s.txt\"\n",
    "\n",
    "np.savetxt(c_name, save_c)\n",
    "np.savetxt(u_name, save_u)\n",
    "np.savetxt(s_name, save_s)"
   ]
  },
  {
   "cell_type": "code",
   "execution_count": 30,
   "id": "eff489ff",
   "metadata": {},
   "outputs": [
    {
     "ename": "Exception",
     "evalue": "Done generating data",
     "output_type": "error",
     "traceback": [
      "\u001b[0;31m---------------------------------------------------------------------------\u001b[0m",
      "\u001b[0;31mException\u001b[0m                                 Traceback (most recent call last)",
      "Cell \u001b[0;32mIn[30], line 1\u001b[0m\n\u001b[0;32m----> 1\u001b[0m \u001b[38;5;28;01mraise\u001b[39;00m \u001b[38;5;167;01mException\u001b[39;00m(\u001b[38;5;124m\"\u001b[39m\u001b[38;5;124mDone generating data\u001b[39m\u001b[38;5;124m\"\u001b[39m)\n",
      "\u001b[0;31mException\u001b[0m: Done generating data"
     ]
    }
   ],
   "source": [
    "raise Exception(\"Done generating data\")"
   ]
  },
  {
   "cell_type": "markdown",
   "id": "a1809331-6e1b-408f-ae00-5a39f99c328e",
   "metadata": {},
   "source": [
    "## Graph Simulated Data"
   ]
  },
  {
   "cell_type": "code",
   "execution_count": null,
   "id": "47875470",
   "metadata": {
    "scrolled": true
   },
   "outputs": [],
   "source": [
    "graph_genes = 500\n",
    "\n",
    "if graph_genes > n_gene:\n",
    "    graph_genes = n_gene\n",
    "\n",
    "fig, axs = plt.subplots(-(-graph_genes // 5), 5, figsize=(14, 2.5 * (-(-graph_genes // 5))), facecolor='white')\n",
    "fig.patch.set_facecolor('white')\n",
    "marker_type = ['o', 'X', 'D', '*']\n",
    "for i in range(graph_genes):\n",
    "    c = cus_list[i][:,0]\n",
    "    u = cus_list[i][:,1]\n",
    "    s = cus_list[i][:,2]\n",
    "    t = (output_time.T)[i]\n",
    "    row = i // 5\n",
    "    col = i % 5\n",
    "    axs[row, col].scatter(t, c, s=5)\n",
    "    # only one line may be specified; full height\n",
    "    #print(t_sw_array_array[i])\n",
    "    # for line in t_sw_array_array[i]:\n",
    "    for line in adj_switch_times[i]:\n",
    "        axs[row, col].axvline(x = line, color = 'r')\n",
    "    #for j, sw_exp in enumerate(cus_sw_list[i]):\n",
    "    #    axs[row, col].plot([output_time.T)], [sw_exp[0,0]], marker_type[j]+'r', markersize=8)\n",
    "    axs[row, col].plot(t[-1], c[-1], marker_type[3]+'r', markersize=8)\n",
    "    axs[row, col].set_xlabel('t')\n",
    "    axs[row, col].set_ylabel('c')\n",
    "    axs[row, col].set_title(f'S{i} M{int(model_list[i])} D{dire}')\n",
    "fig.tight_layout()"
   ]
  },
  {
   "cell_type": "code",
   "execution_count": null,
   "id": "d917f0e5",
   "metadata": {
    "scrolled": true
   },
   "outputs": [],
   "source": [
    "graph_genes = 500\n",
    "\n",
    "if graph_genes > n_gene:\n",
    "    graph_genes = n_gene\n",
    "\n",
    "fig, axs = plt.subplots(-(-graph_genes // 5), 5, figsize=(14, 2.5 * (-(-graph_genes // 5))), facecolor='white')\n",
    "fig.patch.set_facecolor('white')\n",
    "marker_type = ['o', 'X', 'D', '*']\n",
    "for i in range(graph_genes):\n",
    "    c = cus_list[i][:,0]\n",
    "    u = cus_list[i][:,1]\n",
    "    s = cus_list[i][:,2]\n",
    "    t = (output_time.T)[i]\n",
    "    row = i // 5\n",
    "    col = i % 5\n",
    "    axs[row, col].scatter(t, u, s=5)\n",
    "    # only one line may be specified; full height\n",
    "    #print(t_sw_array_array[i])\n",
    "    #for line in t_sw_array_array[i]:\n",
    "    for line in adj_switch_times[i]:\n",
    "        axs[row, col].axvline(x = line, color = 'r')\n",
    "    #for j, sw_exp in enumerate(cus_sw_list[i]):\n",
    "    #    axs[row, col].plot([output_time.T)], [sw_exp[0,0]], marker_type[j]+'r', markersize=8)\n",
    "    axs[row, col].plot(t[-1], u[-1], marker_type[3]+'r', markersize=8)\n",
    "    axs[row, col].set_xlabel('t')\n",
    "    axs[row, col].set_ylabel('u')\n",
    "    axs[row, col].set_title(f'S{i} M{int(model_list[i])} D{dire}')\n",
    "fig.tight_layout()"
   ]
  },
  {
   "cell_type": "code",
   "execution_count": null,
   "id": "18fbdd15",
   "metadata": {
    "scrolled": true
   },
   "outputs": [],
   "source": [
    "graph_genes = 500\n",
    "\n",
    "if graph_genes > n_gene:\n",
    "    graph_genes = n_gene\n",
    "\n",
    "fig, axs = plt.subplots(-(-graph_genes // 5), 5, figsize=(14, 2.5 * (-(-graph_genes // 5))), facecolor='white')\n",
    "fig.patch.set_facecolor('white')\n",
    "marker_type = ['o', 'X', 'D', '*']\n",
    "for i in range(graph_genes):\n",
    "    c = cus_list[i][:,0]\n",
    "    u = cus_list[i][:,1]\n",
    "    s = cus_list[i][:,2]\n",
    "    t = (output_time.T)[i]\n",
    "    row = i // 5\n",
    "    col = i % 5\n",
    "    axs[row, col].scatter(t, s, s=5)\n",
    "    # only one line may be specified; full height\n",
    "    #print(t_sw_array_array[i])\n",
    "    # for line in t_sw_array_array[i]:\n",
    "    for line in adj_switch_times[i]:\n",
    "        axs[row, col].axvline(x = line, color = 'r')\n",
    "    #for j, sw_exp in enumerate(cus_sw_list[i]):\n",
    "    #    axs[row, col].plot([output_time.T)], [sw_exp[0,0]], marker_type[j]+'r', markersize=8)\n",
    "    axs[row, col].plot(t[-1], s[-1], marker_type[3]+'r', markersize=8)\n",
    "    axs[row, col].set_xlabel('t')\n",
    "    axs[row, col].set_ylabel('s')\n",
    "    axs[row, col].set_title(f'S{i} M{int(model_list[i])} D{dire}')\n",
    "fig.tight_layout()"
   ]
  },
  {
   "cell_type": "code",
   "execution_count": null,
   "id": "f484ae2e",
   "metadata": {
    "ExecuteTime": {
     "end_time": "2022-06-06T21:11:58.450525Z",
     "start_time": "2022-06-06T21:11:55.016244Z"
    },
    "scrolled": true
   },
   "outputs": [],
   "source": [
    "fig, axs = plt.subplots(-(-50 // 5), 5, figsize=(14, 2.5 * (-(-50 // 5))), facecolor='white')\n",
    "fig.patch.set_facecolor('white')\n",
    "marker_type = ['o', 'X', 'D', '*']\n",
    "for i in range(50):\n",
    "    c = cus_list[i][:,0]\n",
    "    u = cus_list[i][:,1]\n",
    "    s = cus_list[i][:,2]\n",
    "    row = i // 5\n",
    "    col = i % 5\n",
    "    axs[row, col].scatter(u, c, s=5)\n",
    "    for j, sw_exp in enumerate(cus_sw_list[i]):\n",
    "        axs[row, col].plot([sw_exp[0,1]], [sw_exp[0,0]], marker_type[j]+'r', markersize=8)\n",
    "    axs[row, col].plot(u[-1], c[-1], marker_type[3]+'r', markersize=8)\n",
    "    axs[row, col].set_xlabel('u')\n",
    "    axs[row, col].set_ylabel('c')\n",
    "    axs[row, col].set_title(f'S{i} M{int(model_list[i])} D{dire}')\n",
    "fig.tight_layout()"
   ]
  },
  {
   "cell_type": "code",
   "execution_count": null,
   "id": "59b39725",
   "metadata": {
    "ExecuteTime": {
     "end_time": "2022-06-06T21:12:01.868301Z",
     "start_time": "2022-06-06T21:11:58.451795Z"
    },
    "scrolled": true
   },
   "outputs": [],
   "source": [
    "fig, axs = plt.subplots(-(-50 // 5), 5, figsize=(14, 2.5 * (-(-50 // 5))), facecolor='white')\n",
    "fig.patch.set_facecolor('white')\n",
    "marker_type = ['o', 'X', 'D', '*']\n",
    "for i in range(50):\n",
    "    #axs[row, col].set_title(f'S{i} M{int(model_list[i])} D{dire}')\n",
    "    c = cus_list[i][:,0]\n",
    "    u = cus_list[i][:,1]\n",
    "    s = cus_list[i][:,2]\n",
    "    row = i // 5\n",
    "    col = i % 5\n",
    "    axs[row, col].scatter(s, u, s=5)\n",
    "    for j, sw_exp in enumerate(cus_sw_list[i]):\n",
    "        axs[row, col].plot([sw_exp[0,2]], [sw_exp[0,1]], marker_type[j]+'r', markersize=8)\n",
    "    axs[row, col].plot(s[-1], u[-1], marker_type[3]+'r', markersize=8)\n",
    "    axs[row, col].set_xlabel('s')\n",
    "    axs[row, col].set_ylabel('u')\n",
    "    axs[row, col].set_title(f'S{i} M{int(model_list[i])}')\n",
    "    # axs[row, col].set_title(f'{para_list[i][0]:.2f}, {para_list[i][1]:.2f}, {para_list[i][2]:.2f}, {para_list[i][3]:.2f}, {t_sw_array_array[i][0]:.1f}')\n",
    "fig.tight_layout()"
   ]
  },
  {
   "cell_type": "code",
   "execution_count": null,
   "id": "ec2aa01e",
   "metadata": {
    "ExecuteTime": {
     "end_time": "2022-06-06T21:12:05.502444Z",
     "start_time": "2022-06-06T21:12:01.869450Z"
    },
    "scrolled": true
   },
   "outputs": [],
   "source": [
    "fig, axs = plt.subplots(-(-50 // 5), 5, figsize=(14, 2.5 * (-(-50 // 5))))\n",
    "marker_type = ['o', 'X', 'D', '*']\n",
    "for i in range(50):\n",
    "    c = noise_list[i][:,0]\n",
    "    u = noise_list[i][:,1]\n",
    "    s = noise_list[i][:,2]\n",
    "    row = i // 5\n",
    "    col = i % 5\n",
    "    axs[row, col].scatter(u, c, s=5)\n",
    "    for j, sw_exp in enumerate(cus_sw_list[i]):\n",
    "        axs[row, col].plot([sw_exp[0,1]], [sw_exp[0,0]], marker_type[j]+'r', markersize=8)\n",
    "    axs[row, col].plot(u[-1], c[-1], marker_type[3]+'r', markersize=8)\n",
    "    c = cus_list[i][:,0]\n",
    "    u = cus_list[i][:,1]\n",
    "    s = cus_list[i][:,2]\n",
    "    axs[row, col].scatter(u, c, s=2, c='red', alpha=0.3)\n",
    "    axs[row, col].set_xlabel('u_noise')\n",
    "    axs[row, col].set_ylabel('c_noise')\n",
    "    axs[row, col].set_title(f'S{i} M{int(model_list[i])}')\n",
    "fig.tight_layout()"
   ]
  },
  {
   "cell_type": "code",
   "execution_count": null,
   "id": "70065679",
   "metadata": {
    "ExecuteTime": {
     "end_time": "2022-06-06T21:12:09.502104Z",
     "start_time": "2022-06-06T21:12:05.503775Z"
    },
    "scrolled": true
   },
   "outputs": [],
   "source": [
    "fig, axs = plt.subplots(-(-50 // 5), 5, figsize=(14, 2.5 * (-(-50 // 5))))\n",
    "marker_type = ['o', 'X', 'D', '*']\n",
    "for i in range(50):\n",
    "    c = noise_list[i][:,0]\n",
    "    u = noise_list[i][:,1]\n",
    "    s = noise_list[i][:,2]\n",
    "    row = i // 5\n",
    "    col = i % 5\n",
    "    axs[row, col].scatter(s, u, s=5)\n",
    "    for j, sw_exp in enumerate(cus_sw_list[i]):\n",
    "        axs[row, col].plot([sw_exp[0,2]], [sw_exp[0,1]], marker_type[j]+'r', markersize=8)\n",
    "    axs[row, col].plot(s[-1], u[-1], marker_type[3]+'r', markersize=8)\n",
    "    c = cus_list[i][:,0]\n",
    "    u = cus_list[i][:,1]\n",
    "    s = cus_list[i][:,2]\n",
    "    axs[row, col].scatter(s, u, s=2, c='red', alpha=0.3)\n",
    "    axs[row, col].set_xlabel('s_noise')\n",
    "    axs[row, col].set_ylabel('u_noise')\n",
    "    axs[row, col].set_title(f'S{i} M{int(model_list[i])}')\n",
    "fig.tight_layout()"
   ]
  },
  {
   "cell_type": "code",
   "execution_count": null,
   "id": "b6aa4d63",
   "metadata": {
    "ExecuteTime": {
     "end_time": "2022-06-06T21:12:09.518737Z",
     "start_time": "2022-06-06T21:12:09.503320Z"
    }
   },
   "outputs": [],
   "source": [
    "obs_names = [str(i) for i in range(n)]\n",
    "var_names = [str(i) for i in range(n_gene)]"
   ]
  },
  {
   "cell_type": "code",
   "execution_count": null,
   "id": "05b69554",
   "metadata": {
    "ExecuteTime": {
     "end_time": "2022-06-06T21:12:09.556252Z",
     "start_time": "2022-06-06T21:12:09.520130Z"
    }
   },
   "outputs": [],
   "source": [
    "X = np.empty((n,n_gene))\n",
    "unspliced = np.empty((n,n_gene))\n",
    "spliced = np.empty((n,n_gene))\n",
    "atac = np.empty((n,n_gene))\n",
    "for i in range(n_gene):\n",
    "    X[:,i] = noise_list[i][:,1] + noise_list[i][:,2]\n",
    "    unspliced[:,i] = noise_list[i][:,1]\n",
    "    spliced[:,i] = noise_list[i][:,2]\n",
    "    atac[:,i] = noise_list[i][:,0]"
   ]
  },
  {
   "cell_type": "code",
   "execution_count": null,
   "id": "8779c22a",
   "metadata": {
    "ExecuteTime": {
     "end_time": "2022-06-06T21:12:09.578900Z",
     "start_time": "2022-06-06T21:12:09.557947Z"
    }
   },
   "outputs": [],
   "source": [
    "X.shape"
   ]
  },
  {
   "cell_type": "code",
   "execution_count": null,
   "id": "19c330cd",
   "metadata": {
    "ExecuteTime": {
     "end_time": "2022-06-06T21:12:13.968366Z",
     "start_time": "2022-06-06T21:12:09.580532Z"
    }
   },
   "outputs": [],
   "source": [
    "adata = AnnData(X = X)\n",
    "adata.obs_names = obs_names\n",
    "adata.var_names = var_names\n",
    "adata.layers['unspliced'] = unspliced.copy()\n",
    "adata.layers['spliced'] = spliced.copy()\n",
    "adata.obs['true_time'] = true_time / 20\n",
    "\n",
    "scv.pp.log1p(adata)\n",
    "scv.pp.moments(adata, n_pcs=30, n_neighbors=30)\n",
    "adata.layers['Mu'] = unspliced.copy()\n",
    "adata.layers['Ms'] = spliced.copy()\n",
    "adata.var['highly_variable'] = True"
   ]
  },
  {
   "cell_type": "code",
   "execution_count": null,
   "id": "3f36e4e9",
   "metadata": {
    "ExecuteTime": {
     "end_time": "2022-06-06T21:12:14.473154Z",
     "start_time": "2022-06-06T21:12:13.969782Z"
    }
   },
   "outputs": [],
   "source": [
    "scv.pl.scatter(adata, adata.var_names[:10])"
   ]
  },
  {
   "cell_type": "code",
   "execution_count": null,
   "id": "c01fd2ce",
   "metadata": {
    "ExecuteTime": {
     "end_time": "2022-06-06T21:12:14.492344Z",
     "start_time": "2022-06-06T21:12:14.474338Z"
    }
   },
   "outputs": [],
   "source": [
    "adata_atac = AnnData(X = atac.copy())\n",
    "adata_atac.obs_names = obs_names\n",
    "adata_atac.var_names = var_names\n",
    "\n",
    "adata_atac.layers['Mc'] = adata_atac.X\n",
    "adata_atac.obsp['distances'] = adata.obsp['distances']\n",
    "adata_atac.obsp['connectivities'] = adata.obsp['connectivities']"
   ]
  },
  {
   "cell_type": "code",
   "execution_count": null,
   "id": "c10a2363",
   "metadata": {
    "ExecuteTime": {
     "end_time": "2022-06-06T21:12:17.522773Z",
     "start_time": "2022-06-06T21:12:14.493797Z"
    }
   },
   "outputs": [],
   "source": [
    "scv.tl.umap(adata)"
   ]
  },
  {
   "cell_type": "code",
   "execution_count": null,
   "id": "8d4f8aa6",
   "metadata": {
    "ExecuteTime": {
     "end_time": "2022-06-06T21:12:17.624846Z",
     "start_time": "2022-06-06T21:12:17.524058Z"
    }
   },
   "outputs": [],
   "source": [
    "scv.pl.scatter(adata, color='true_time', color_map='gnuplot', size=80)"
   ]
  },
  {
   "cell_type": "code",
   "execution_count": null,
   "id": "d773b18e",
   "metadata": {},
   "outputs": [],
   "source": [
    "raise Exception(\"Bro don't run rdc\")"
   ]
  },
  {
   "cell_type": "code",
   "execution_count": null,
   "id": "c3b5ee4e",
   "metadata": {
    "ExecuteTime": {
     "end_time": "2022-04-23T02:40:05.083561Z",
     "start_time": "2022-04-23T02:40:05.068744Z"
    }
   },
   "outputs": [],
   "source": [
    "# not normalized"
   ]
  },
  {
   "cell_type": "code",
   "execution_count": null,
   "id": "8cb56194",
   "metadata": {
    "ExecuteTime": {
     "end_time": "2022-04-23T02:52:55.086411Z",
     "start_time": "2022-04-23T02:40:05.084681Z"
    },
    "scrolled": true
   },
   "outputs": [],
   "source": [
    "mv.settings.VERBOSITY = 1\n",
    "mv.settings.LOG_FILENAME = \"simdata_test.txt\"\n",
    "\n",
    "adata_result2 = mv.recover_dynamics_chrom(adata, \n",
    "                                       adata_atac, \n",
    "                                       max_iter=5, \n",
    "                                       init_mode=\"invert\",\n",
    "                                       plot=False, \n",
    "                                       parallel=True,\n",
    "                                       n_jobs=10,\n",
    "                                       save_plot=False,\n",
    "                                       rna_only=False,\n",
    "                                       fit=True\n",
    "                                       )"
   ]
  },
  {
   "cell_type": "code",
   "execution_count": null,
   "id": "dfcb901c",
   "metadata": {},
   "outputs": [],
   "source": [
    "low_likelihood_genes = adata_result2.var['fit_likelihood'] < 0.1\n",
    "adata_bad = adata_result2[:, low_likelihood_genes]\n",
    "print(adata_bad.var['fit_likelihood'])"
   ]
  },
  {
   "cell_type": "code",
   "execution_count": null,
   "id": "042d79e1",
   "metadata": {},
   "outputs": [],
   "source": [
    "gene_list = [\"1\",\"4\",\"8\",\"10\"]\n",
    "mv.dynamic_plot(adata_bad, genes=gene_list, color_by=\"state\")"
   ]
  },
  {
   "cell_type": "code",
   "execution_count": null,
   "id": "a6e82d68",
   "metadata": {},
   "outputs": [],
   "source": [
    "mv.scatter_plot(adata_bad, by='us', genes=gene_list)\n",
    "mv.scatter_plot(adata_bad, by='cu', genes=gene_list)"
   ]
  },
  {
   "cell_type": "code",
   "execution_count": null,
   "id": "7031f51c",
   "metadata": {},
   "outputs": [],
   "source": [
    "print(\"alpha/beta:\")\n",
    "print(adata_bad.var['fit_alpha'] / adata_bad.var['fit_beta'])\n",
    "print()\n",
    "print(\"alpha/gamma:\")\n",
    "print(adata_bad.var['fit_alpha'] / adata_bad.var['fit_gamma'])"
   ]
  },
  {
   "cell_type": "code",
   "execution_count": null,
   "id": "bdbaffa5",
   "metadata": {},
   "outputs": [],
   "source": [
    "fit_time = np.array(adata_result2.layers[\"fit_t\"])"
   ]
  },
  {
   "cell_type": "code",
   "execution_count": null,
   "id": "4cdc5649",
   "metadata": {},
   "outputs": [],
   "source": [
    "print(fit_time.shape)"
   ]
  },
  {
   "cell_type": "code",
   "execution_count": null,
   "id": "fdc1c9ff",
   "metadata": {
    "ExecuteTime": {
     "end_time": "2022-04-23T02:52:55.113498Z",
     "start_time": "2022-04-23T02:52:55.087736Z"
    }
   },
   "outputs": [],
   "source": [
    "np.sum(adata_result2.var['velo_s_genes'])"
   ]
  },
  {
   "cell_type": "code",
   "execution_count": null,
   "id": "5ea61ef2",
   "metadata": {
    "ExecuteTime": {
     "end_time": "2022-04-23T02:52:56.723969Z",
     "start_time": "2022-04-23T02:52:55.119745Z"
    }
   },
   "outputs": [],
   "source": [
    "if 'root_cells' in adata_result2.obs:\n",
    "    del adata_result2.obs['root_cells']\n",
    "velocity_graph(adata_result2)\n",
    "latent_time(adata_result2)"
   ]
  },
  {
   "cell_type": "code",
   "execution_count": null,
   "id": "7a695251",
   "metadata": {},
   "outputs": [],
   "source": [
    "adata_result2.obs[\"true_time\"] = true_time"
   ]
  },
  {
   "cell_type": "code",
   "execution_count": null,
   "id": "09ad00a2",
   "metadata": {},
   "outputs": [],
   "source": [
    "adata_result2.write(\"sim_data.h5ad\")"
   ]
  },
  {
   "cell_type": "code",
   "execution_count": null,
   "id": "efb16602",
   "metadata": {
    "ExecuteTime": {
     "end_time": "2022-04-23T02:52:58.329525Z",
     "start_time": "2022-04-23T02:52:56.725539Z"
    }
   },
   "outputs": [],
   "source": [
    "velocity_embedding_stream(adata_result2, basis='umap', color='latent_time', color_map='gnuplot', size=80)"
   ]
  },
  {
   "cell_type": "code",
   "execution_count": null,
   "id": "b87684ec",
   "metadata": {
    "ExecuteTime": {
     "end_time": "2022-04-23T02:52:58.440691Z",
     "start_time": "2022-04-23T02:52:58.330563Z"
    }
   },
   "outputs": [],
   "source": [
    "scv.pl.scatter(adata_result2, color='latent_time', color_map='gnuplot', size=80)"
   ]
  },
  {
   "cell_type": "code",
   "execution_count": null,
   "id": "f50a8d19",
   "metadata": {
    "ExecuteTime": {
     "end_time": "2022-04-23T02:52:58.555984Z",
     "start_time": "2022-04-23T02:52:58.441709Z"
    }
   },
   "outputs": [],
   "source": [
    "scv.pl.scatter(adata_result2, color=['root_cells'])"
   ]
  },
  {
   "cell_type": "code",
   "execution_count": null,
   "id": "5bad7d6e",
   "metadata": {
    "ExecuteTime": {
     "end_time": "2022-04-23T02:52:58.674411Z",
     "start_time": "2022-04-23T02:52:58.557228Z"
    }
   },
   "outputs": [],
   "source": [
    "scv.pl.scatter(adata_result2, color=adata_result2.obs['latent_time'] - adata_result2.obs['true_time'], color_map='gnuplot', size=80)"
   ]
  },
  {
   "cell_type": "code",
   "execution_count": null,
   "id": "0831e339",
   "metadata": {
    "ExecuteTime": {
     "end_time": "2022-04-23T02:52:59.908603Z",
     "start_time": "2022-04-23T02:52:58.675569Z"
    }
   },
   "outputs": [],
   "source": [
    "velocity_embedding_stream(adata_result2, basis='umap', color='true_time', color_map='gnuplot', size=80)"
   ]
  },
  {
   "cell_type": "code",
   "execution_count": null,
   "id": "5b42c34d",
   "metadata": {
    "ExecuteTime": {
     "end_time": "2022-04-23T02:53:00.023606Z",
     "start_time": "2022-04-23T02:52:59.909662Z"
    }
   },
   "outputs": [],
   "source": [
    "scv.pl.scatter(adata_result2, color=np.var(adata_result2.layers['fit_t']/20, axis=1))"
   ]
  },
  {
   "cell_type": "code",
   "execution_count": null,
   "id": "3a5095b9",
   "metadata": {
    "ExecuteTime": {
     "end_time": "2022-04-23T02:53:04.531561Z",
     "start_time": "2022-04-23T02:53:00.024746Z"
    }
   },
   "outputs": [],
   "source": [
    "scatter_plot(adata_result2, adata_result2.var_names[:100], by='us', color_by='c', axis_on=False, frame_on=False, title_more_info=True)"
   ]
  },
  {
   "cell_type": "code",
   "execution_count": null,
   "id": "6edd44bb",
   "metadata": {
    "ExecuteTime": {
     "end_time": "2022-04-23T02:53:04.550967Z",
     "start_time": "2022-04-23T02:53:04.532744Z"
    }
   },
   "outputs": [],
   "source": [
    "model_pred = adata_result2.var['fit_model'].values\n",
    "dire_pred = []\n",
    "directions = adata_result2.var['fit_direction'].values\n",
    "for i in range(n_gene):\n",
    "    if directions[i] == 'complete':\n",
    "        dire_pred.append(0)\n",
    "    elif directions[i] == 'on':\n",
    "        dire_pred.append(1)\n",
    "    else:\n",
    "        dire_pred.append(2)\n",
    "dire_pred = np.array(dire_pred)\n",
    "filt = (dire == 0) & (dire_pred == 0)\n",
    "np.sum(filt)"
   ]
  },
  {
   "cell_type": "code",
   "execution_count": null,
   "id": "0e00914b",
   "metadata": {
    "ExecuteTime": {
     "end_time": "2022-04-23T02:53:04.628022Z",
     "start_time": "2022-04-23T02:53:04.551978Z"
    }
   },
   "outputs": [],
   "source": [
    "pie_summary(adata_result2)"
   ]
  },
  {
   "cell_type": "code",
   "execution_count": null,
   "id": "5f218757",
   "metadata": {
    "ExecuteTime": {
     "end_time": "2022-04-23T02:53:04.645410Z",
     "start_time": "2022-04-23T02:53:04.629123Z"
    }
   },
   "outputs": [],
   "source": [
    "np.sum(model_list[filt] == model_pred[filt])"
   ]
  },
  {
   "cell_type": "code",
   "execution_count": null,
   "id": "360f55c2",
   "metadata": {
    "ExecuteTime": {
     "end_time": "2022-04-23T02:53:04.662762Z",
     "start_time": "2022-04-23T02:53:04.646498Z"
    }
   },
   "outputs": [],
   "source": [
    "np.sum(dire == dire_pred)"
   ]
  },
  {
   "cell_type": "code",
   "execution_count": null,
   "id": "1722037f",
   "metadata": {},
   "outputs": [],
   "source": [
    "adata_result2"
   ]
  },
  {
   "cell_type": "code",
   "execution_count": null,
   "id": "b8b0540e",
   "metadata": {},
   "outputs": [],
   "source": [
    "print(len(adata_result2.var['fit_likelihood']))\n",
    "print(max(adata_result2.var['fit_likelihood']))\n",
    "print(min(adata_result2.var['fit_likelihood']))"
   ]
  },
  {
   "cell_type": "code",
   "execution_count": null,
   "id": "240655c9",
   "metadata": {},
   "outputs": [],
   "source": [
    "plt.hist(adata_result2.var['fit_likelihood'], bins=100)"
   ]
  },
  {
   "cell_type": "code",
   "execution_count": null,
   "id": "cd41504b",
   "metadata": {
    "ExecuteTime": {
     "end_time": "2022-04-23T02:53:04.767218Z",
     "start_time": "2022-04-23T02:53:04.663823Z"
    }
   },
   "outputs": [],
   "source": [
    "adata_result = sc.read_h5ad('../10x_mouse_brain/multivelo.h5ad')"
   ]
  },
  {
   "cell_type": "code",
   "execution_count": null,
   "id": "4ee58f59",
   "metadata": {
    "ExecuteTime": {
     "end_time": "2022-04-23T02:53:04.788093Z",
     "start_time": "2022-04-23T02:53:04.768448Z"
    }
   },
   "outputs": [],
   "source": [
    "adata_result"
   ]
  },
  {
   "cell_type": "code",
   "execution_count": null,
   "id": "051cb82d",
   "metadata": {
    "ExecuteTime": {
     "end_time": "2022-04-23T02:53:16.452947Z",
     "start_time": "2022-04-23T02:53:04.789371Z"
    }
   },
   "outputs": [],
   "source": [
    "n_anchors = adata_result.uns['velo_s_params']['t']\n",
    "var_c = np.empty(adata_result.n_vars)\n",
    "var_u = np.empty(adata_result.n_vars)\n",
    "var_s = np.empty(adata_result.n_vars)\n",
    "mean_c = np.empty(adata_result.n_vars)\n",
    "mean_u = np.empty(adata_result.n_vars)\n",
    "mean_s = np.empty(adata_result.n_vars)\n",
    "i = 0\n",
    "for gene in adata_result.var_names:\n",
    "    c_all = np.ravel(adata_result[:,gene].layers['ATAC'])\n",
    "    u_all = np.ravel(adata_result[:,gene].layers['Mu'])\n",
    "    s_all = np.ravel(adata_result[:,gene].layers['Ms'])\n",
    "    \n",
    "    non_zero = (c_all > 0.1 * np.max(c_all)) & (u_all > 0.1 * np.max(u_all)) & (s_all > 0.1 * np.max(s_all))\n",
    "    t = np.ravel(adata_result[:,gene].layers['fit_t'])[:,None]\n",
    "    c_all, u_all, s_all, t = c_all[non_zero], u_all[non_zero], s_all[non_zero], t[non_zero]\n",
    "    \n",
    "    min_idx = int(adata_result[:,gene].var['fit_anchor_min_idx'])\n",
    "    max_idx = int(adata_result[:,gene].var['fit_anchor_max_idx'])\n",
    "    a_c = adata_result[:,gene].varm['fit_anchor_c'].ravel()[min_idx:max_idx+2].copy()\n",
    "    a_u = adata_result[:,gene].varm['fit_anchor_u'].ravel()[min_idx:max_idx+2].copy()\n",
    "    a_s = adata_result[:,gene].varm['fit_anchor_s'].ravel()[min_idx:max_idx+2].copy()\n",
    "    old_t = np.linspace(0, 20, n_anchors)[min_idx:max_idx+2]\n",
    "    new_t = old_t - np.min(old_t)\n",
    "    new_t = new_t * 20 / np.max(new_t)\n",
    "    \n",
    "    anchor_idx = np.isclose(t - new_t, 0, atol=1e-4)\n",
    "    anchor_idx = np.argwhere(anchor_idx)\n",
    "    if anchor_idx.shape[0] != np.sum(non_zero):\n",
    "        a_c = adata_result[:,gene].varm['fit_anchor_c'].ravel()[min_idx:max_idx+1].copy()\n",
    "        a_u = adata_result[:,gene].varm['fit_anchor_u'].ravel()[min_idx:max_idx+1].copy()\n",
    "        a_s = adata_result[:,gene].varm['fit_anchor_s'].ravel()[min_idx:max_idx+1].copy()\n",
    "        old_t = np.linspace(0, 20, n_anchors)[min_idx:max_idx+1]\n",
    "        new_t = old_t - np.min(old_t)\n",
    "        new_t = new_t * 20 / np.max(new_t)\n",
    "\n",
    "        anchor_idx = np.isclose(t - new_t, 0, atol=1e-4)\n",
    "        anchor_idx = np.argwhere(anchor_idx)\n",
    "        if anchor_idx.shape[0] != np.sum(non_zero):\n",
    "            print(gene, anchor_idx.shape[0], np.sum(non_zero))\n",
    "            print(np.sort(np.unique(np.ravel(t))))\n",
    "            print(new_t)\n",
    "            break\n",
    "    anchor_idx = anchor_idx[:,1]\n",
    "    a_c_ = a_c[anchor_idx]\n",
    "    a_u_ = a_u[anchor_idx]\n",
    "    a_s_ = a_s[anchor_idx]\n",
    "    \n",
    "    var_c[i] = np.var((c_all - a_c_) / np.max(c_all))\n",
    "    var_u[i] = np.var(u_all - a_u_)\n",
    "    var_s[i] = np.var(s_all - a_s_)\n",
    "    mean_c[i] = np.mean(c_all / np.max(c_all))\n",
    "    mean_u[i] = np.mean(u_all)\n",
    "    mean_s[i] = np.mean(s_all)\n",
    "    i += 1"
   ]
  },
  {
   "cell_type": "code",
   "execution_count": null,
   "id": "8f488e40",
   "metadata": {
    "ExecuteTime": {
     "end_time": "2022-04-23T02:53:16.745770Z",
     "start_time": "2022-04-23T02:53:16.454009Z"
    }
   },
   "outputs": [],
   "source": [
    "plt.hist(np.log(mean_c), bins=100, alpha=0.5);\n",
    "plt.hist(np.log(mean_sim_c), bins=100, alpha=0.5);"
   ]
  },
  {
   "cell_type": "code",
   "execution_count": null,
   "id": "4a9a47a3",
   "metadata": {
    "ExecuteTime": {
     "end_time": "2022-04-23T02:53:17.040197Z",
     "start_time": "2022-04-23T02:53:16.746844Z"
    }
   },
   "outputs": [],
   "source": [
    "plt.hist(np.log(mean_u), bins=100, alpha=0.5);\n",
    "plt.hist(np.log(mean_sim_u), bins=100, alpha=0.5);"
   ]
  },
  {
   "cell_type": "code",
   "execution_count": null,
   "id": "e640f0fc",
   "metadata": {
    "ExecuteTime": {
     "end_time": "2022-04-23T02:53:17.337436Z",
     "start_time": "2022-04-23T02:53:17.041436Z"
    }
   },
   "outputs": [],
   "source": [
    "plt.hist(np.log(mean_s), bins=100, alpha=0.5);\n",
    "plt.hist(np.log(mean_sim_s), bins=100, alpha=0.5);"
   ]
  },
  {
   "cell_type": "code",
   "execution_count": null,
   "id": "1b03221d",
   "metadata": {
    "ExecuteTime": {
     "end_time": "2022-04-23T02:53:17.641734Z",
     "start_time": "2022-04-23T02:53:17.338497Z"
    }
   },
   "outputs": [],
   "source": [
    "plt.hist(np.log(var_c / mean_c), bins=100, alpha=0.5);\n",
    "plt.hist(np.log(var_sim_c / mean_sim_c), bins=100, alpha=0.5);"
   ]
  },
  {
   "cell_type": "code",
   "execution_count": null,
   "id": "20a4c8fe",
   "metadata": {
    "ExecuteTime": {
     "end_time": "2022-04-23T02:53:17.940022Z",
     "start_time": "2022-04-23T02:53:17.642831Z"
    }
   },
   "outputs": [],
   "source": [
    "plt.hist(np.log(var_u / mean_u), bins=100, alpha=0.5);\n",
    "plt.hist(np.log(var_sim_u / mean_sim_u), bins=100, alpha=0.5);"
   ]
  },
  {
   "cell_type": "code",
   "execution_count": null,
   "id": "8dcb7440",
   "metadata": {
    "ExecuteTime": {
     "end_time": "2022-04-23T02:53:18.237831Z",
     "start_time": "2022-04-23T02:53:17.941143Z"
    }
   },
   "outputs": [],
   "source": [
    "plt.hist(np.log(var_s / mean_s), bins=100, alpha=0.5);\n",
    "plt.hist(np.log(var_sim_s / mean_sim_s), bins=100, alpha=0.5);"
   ]
  },
  {
   "cell_type": "code",
   "execution_count": null,
   "id": "b61df6cc",
   "metadata": {
    "ExecuteTime": {
     "end_time": "2022-04-23T02:53:18.256032Z",
     "start_time": "2022-04-23T02:53:18.238919Z"
    }
   },
   "outputs": [],
   "source": [
    "del adata_result"
   ]
  },
  {
   "cell_type": "code",
   "execution_count": null,
   "id": "0c6a9293",
   "metadata": {
    "ExecuteTime": {
     "end_time": "2022-04-23T02:53:18.284202Z",
     "start_time": "2022-04-23T02:53:18.257220Z"
    }
   },
   "outputs": [],
   "source": [
    "a = adata_result2.obs['latent_time'] - adata_result2.obs['true_time']\n",
    "b = np.var(adata_result2.layers['fit_t']/20, axis=1)\n",
    "df = pd.DataFrame({'diff':a, 'var':b})\n",
    "df.to_csv('sim_4-5-1.txt', sep='\\t', index=False)"
   ]
  },
  {
   "cell_type": "code",
   "execution_count": null,
   "id": "de2aafdd",
   "metadata": {},
   "outputs": [],
   "source": [
    "# scvelo"
   ]
  },
  {
   "cell_type": "code",
   "execution_count": null,
   "id": "2cd2d6a7",
   "metadata": {
    "ExecuteTime": {
     "end_time": "2022-06-06T21:14:25.031717Z",
     "start_time": "2022-06-06T21:13:40.264569Z"
    }
   },
   "outputs": [],
   "source": [
    "scv.tl.recover_dynamics(adata, n_jobs=12)\n",
    "scv.tl.velocity(adata, mode='dynamical')\n",
    "scv.tl.velocity_graph(adata)"
   ]
  },
  {
   "cell_type": "code",
   "execution_count": null,
   "id": "1955d10d",
   "metadata": {
    "ExecuteTime": {
     "end_time": "2022-06-06T21:14:26.718115Z",
     "start_time": "2022-06-06T21:14:25.429021Z"
    }
   },
   "outputs": [],
   "source": [
    "scv.pl.velocity_embedding_stream(adata, basis='umap')"
   ]
  },
  {
   "cell_type": "code",
   "execution_count": null,
   "id": "cc659ac3",
   "metadata": {
    "ExecuteTime": {
     "end_time": "2022-06-06T21:14:27.500929Z",
     "start_time": "2022-06-06T21:14:27.115205Z"
    }
   },
   "outputs": [],
   "source": [
    "scv.tl.latent_time(adata)\n",
    "scv.pl.scatter(adata, color='latent_time', color_map='gnuplot', size=80)"
   ]
  },
  {
   "cell_type": "code",
   "execution_count": null,
   "id": "9556c90b",
   "metadata": {
    "ExecuteTime": {
     "end_time": "2022-06-06T21:14:27.926472Z",
     "start_time": "2022-06-06T21:14:27.897173Z"
    }
   },
   "outputs": [],
   "source": [
    "a = adata.obs['latent_time'] - adata.obs['true_time']\n",
    "b = np.var(adata.layers['fit_t']/20, axis=1)\n",
    "df = pd.DataFrame({'diff':a, 'var':b})\n",
    "df.to_csv('sim_4-5-1_scvelo.txt', sep='\\t', index=False)"
   ]
  },
  {
   "cell_type": "code",
   "execution_count": null,
   "id": "3d852452",
   "metadata": {
    "ExecuteTime": {
     "end_time": "2022-04-30T01:35:10.488275Z",
     "start_time": "2022-04-30T01:35:10.373980Z"
    }
   },
   "outputs": [],
   "source": [
    "scv.pl.scatter(adata, color=adata.obs['latent_time'] - adata.obs['true_time'], color_map='gnuplot', size=80)"
   ]
  },
  {
   "cell_type": "code",
   "execution_count": null,
   "id": "68846c77",
   "metadata": {
    "ExecuteTime": {
     "end_time": "2022-04-30T01:35:11.055787Z",
     "start_time": "2022-04-30T01:35:10.942178Z"
    }
   },
   "outputs": [],
   "source": [
    "scv.pl.scatter(adata, color=np.var(adata.layers['fit_t']/20, axis=1))"
   ]
  },
  {
   "cell_type": "code",
   "execution_count": null,
   "id": "fae97995",
   "metadata": {
    "ExecuteTime": {
     "end_time": "2022-04-30T01:40:26.705983Z",
     "start_time": "2022-04-30T01:40:26.544246Z"
    }
   },
   "outputs": [],
   "source": [
    "plt.hist(np.ravel(adata.layers['fit_t']), bins=50);"
   ]
  },
  {
   "cell_type": "code",
   "execution_count": null,
   "id": "d6f8b52c",
   "metadata": {
    "ExecuteTime": {
     "end_time": "2022-04-30T01:35:13.126049Z",
     "start_time": "2022-04-30T01:35:11.505947Z"
    }
   },
   "outputs": [],
   "source": [
    "scv.pl.scatter(adata, adata.var_names[:20], ncols=10)"
   ]
  },
  {
   "cell_type": "code",
   "execution_count": null,
   "id": "fc8743a3",
   "metadata": {
    "ExecuteTime": {
     "end_time": "2022-04-30T01:35:14.974468Z",
     "start_time": "2022-04-30T01:35:13.582659Z"
    }
   },
   "outputs": [],
   "source": [
    "scv.pl.scatter(adata, adata.var_names[20:40], ncols=10)"
   ]
  },
  {
   "cell_type": "code",
   "execution_count": null,
   "id": "e07f7c37",
   "metadata": {},
   "outputs": [],
   "source": []
  },
  {
   "cell_type": "code",
   "execution_count": null,
   "id": "e68d5f84",
   "metadata": {
    "ExecuteTime": {
     "end_time": "2022-06-06T21:15:50.570410Z",
     "start_time": "2022-06-06T21:15:50.548537Z"
    }
   },
   "outputs": [],
   "source": [
    "sns.set(font_scale=1.4)"
   ]
  },
  {
   "cell_type": "code",
   "execution_count": null,
   "id": "8993bcc7",
   "metadata": {
    "ExecuteTime": {
     "end_time": "2022-06-06T21:15:51.820575Z",
     "start_time": "2022-06-06T21:15:51.768910Z"
    }
   },
   "outputs": [],
   "source": [
    "a = pd.read_csv('sim_4-5-1.txt', sep='\\t')\n",
    "b = pd.read_csv('sim_4-4-2.txt', sep='\\t')\n",
    "c = pd.read_csv('sim_4-3-3.txt', sep='\\t')\n",
    "d = pd.read_csv('sim_6-3-1.txt', sep='\\t')\n",
    "e = pd.read_csv('sim_1-8-1.txt', sep='\\t')\n",
    "f = pd.read_csv('sim_4-5-1_low_var.txt', sep='\\t')\n",
    "g = pd.read_csv('sim_4-5-1_high_var.txt', sep='\\t')\n",
    "\n",
    "h = pd.read_csv('sim_4-5-1_scvelo.txt', sep='\\t')\n",
    "i = pd.read_csv('sim_4-4-2_scvelo.txt', sep='\\t')\n",
    "j = pd.read_csv('sim_4-3-3_scvelo.txt', sep='\\t')\n",
    "k = pd.read_csv('sim_6-3-1_scvelo.txt', sep='\\t')\n",
    "l = pd.read_csv('sim_1-8-1_scvelo.txt', sep='\\t')\n",
    "m = pd.read_csv('sim_4-5-1_low_var_scvelo.txt', sep='\\t')\n",
    "n = pd.read_csv('sim_4-5-1_high_var_scvelo.txt', sep='\\t')"
   ]
  },
  {
   "cell_type": "code",
   "execution_count": null,
   "id": "3414eabf",
   "metadata": {
    "ExecuteTime": {
     "end_time": "2022-06-06T21:16:46.712355Z",
     "start_time": "2022-06-06T21:16:46.695683Z"
    }
   },
   "outputs": [],
   "source": [
    "df1 = pd.DataFrame({'4:5:1':a['diff'].to_numpy(), \n",
    "                    '4:4:2':b['diff'].to_numpy(), \n",
    "                    '4:3:3':c['diff'].to_numpy(), \n",
    "                    '6:3:1':d['diff'].to_numpy(), \n",
    "                    '1:8:1':e['diff'].to_numpy(), \n",
    "                    '4:5:1 LV':f['diff'].to_numpy(), \n",
    "                    '4:5:1 HV':g['diff'].to_numpy(),\n",
    "                    '4:5:1 scv':h['diff'].to_numpy(), \n",
    "                    '4:4:2 scv':i['diff'].to_numpy(), \n",
    "                    '4:3:3 scv':j['diff'].to_numpy(), \n",
    "                    '6:3:1 scv':k['diff'].to_numpy(), \n",
    "                    '1:8:1 scv':l['diff'].to_numpy(), \n",
    "                    '4:5:1 LV scv':m['diff'].to_numpy(), \n",
    "                    '4:5:1 HV scv':n['diff'].to_numpy()\n",
    "                   })"
   ]
  },
  {
   "cell_type": "code",
   "execution_count": null,
   "id": "ffec9f09",
   "metadata": {
    "ExecuteTime": {
     "end_time": "2022-06-06T21:20:15.155626Z",
     "start_time": "2022-06-06T21:20:14.833969Z"
    }
   },
   "outputs": [],
   "source": [
    "fig, ax = plt.subplots(1, 1, figsize=(24,8))\n",
    "sns.violinplot(data=df1, ax=ax);\n",
    "ax.set_title('Difference Between Latent Time and True Time');"
   ]
  },
  {
   "cell_type": "code",
   "execution_count": null,
   "id": "8ebfaaf9",
   "metadata": {
    "ExecuteTime": {
     "end_time": "2022-06-06T21:17:44.590834Z",
     "start_time": "2022-06-06T21:17:44.574033Z"
    }
   },
   "outputs": [],
   "source": [
    "df2 = pd.DataFrame({'4:5:1':a['var'].to_numpy(), \n",
    "                    '4:4:2':b['var'].to_numpy(), \n",
    "                    '4:3:3':c['var'].to_numpy(), \n",
    "                    '6:3:1':d['var'].to_numpy(), \n",
    "                    '1:8:1':e['var'].to_numpy(), \n",
    "                    '4:5:1 LV':f['var'].to_numpy(), \n",
    "                    '4:5:1 HV':g['var'].to_numpy(),\n",
    "                    '4:5:1 scv':h['var'].to_numpy(), \n",
    "                    '4:4:2 scv':i['var'].to_numpy(), \n",
    "                    '4:3:3 scv':j['var'].to_numpy(), \n",
    "                    '6:3:1 scv':k['var'].to_numpy(), \n",
    "                    '1:8:1 scv':l['var'].to_numpy(), \n",
    "                    '4:5:1 LV scv':m['var'].to_numpy(), \n",
    "                    '4:5:1 HV scv':n['var'].to_numpy()\n",
    "                   })"
   ]
  },
  {
   "cell_type": "code",
   "execution_count": null,
   "id": "ac004cc5",
   "metadata": {
    "ExecuteTime": {
     "end_time": "2022-06-06T21:20:08.807710Z",
     "start_time": "2022-06-06T21:20:08.520280Z"
    }
   },
   "outputs": [],
   "source": [
    "fig2, ax2 = plt.subplots(1, 1, figsize=(24,8))\n",
    "sns.violinplot(data=df2, ax=ax2);\n",
    "ax2.set_title('Variance of Fit Time Across Genes');"
   ]
  },
  {
   "cell_type": "code",
   "execution_count": null,
   "id": "9e004156",
   "metadata": {},
   "outputs": [],
   "source": []
  }
 ],
 "metadata": {
  "kernelspec": {
   "display_name": "Python 3 (ipykernel)",
   "language": "python",
   "name": "python3"
  },
  "language_info": {
   "codemirror_mode": {
    "name": "ipython",
    "version": 3
   },
   "file_extension": ".py",
   "mimetype": "text/x-python",
   "name": "python",
   "nbconvert_exporter": "python",
   "pygments_lexer": "ipython3",
   "version": "3.11.4"
  },
  "toc": {
   "base_numbering": 1,
   "nav_menu": {},
   "number_sections": true,
   "sideBar": true,
   "skip_h1_title": false,
   "title_cell": "Table of Contents",
   "title_sidebar": "Contents",
   "toc_cell": false,
   "toc_position": {},
   "toc_section_display": true,
   "toc_window_display": false
  },
  "varInspector": {
   "cols": {
    "lenName": 16,
    "lenType": 16,
    "lenVar": "48"
   },
   "kernels_config": {
    "python": {
     "delete_cmd_postfix": "",
     "delete_cmd_prefix": "del ",
     "library": "var_list.py",
     "varRefreshCmd": "print(var_dic_list())"
    },
    "r": {
     "delete_cmd_postfix": ") ",
     "delete_cmd_prefix": "rm(",
     "library": "var_list.r",
     "varRefreshCmd": "cat(var_dic_list()) "
    }
   },
   "types_to_exclude": [
    "module",
    "function",
    "builtin_function_or_method",
    "instance",
    "_Feature"
   ],
   "window_display": false
  }
 },
 "nbformat": 4,
 "nbformat_minor": 5
}
